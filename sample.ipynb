{
 "cells": [
  {
   "cell_type": "markdown",
   "id": "76ece53d-d619-48f4-bf78-9a5906943a20",
   "metadata": {},
   "source": [
    "## Walkthru sample notebook"
   ]
  },
  {
   "cell_type": "markdown",
   "id": "d861a54e-c0a0-4d7a-81a4-60aef9b0e6cb",
   "metadata": {},
   "source": [
    "Here is how I calculate `1+1`:"
   ]
  },
  {
   "cell_type": "code",
   "execution_count": 2,
   "id": "9912d237-5f0f-4c5f-b4e9-ec7a7768f7bf",
   "metadata": {},
   "outputs": [
    {
     "data": {
      "text/plain": [
       "2"
      ]
     },
     "execution_count": 2,
     "metadata": {},
     "output_type": "execute_result"
    }
   ],
   "source": [
    "1+1"
   ]
  },
  {
   "cell_type": "code",
   "execution_count": 3,
   "id": "076c5967-13ee-4bc4-8fef-2d063b80aa34",
   "metadata": {},
   "outputs": [],
   "source": [
    "from numpy import *"
   ]
  },
  {
   "cell_type": "markdown",
   "id": "ea77e3da-5a5a-4069-b3f0-935c982f6160",
   "metadata": {},
   "source": [
    "Here is how I calculate `sin`:"
   ]
  },
  {
   "cell_type": "code",
   "execution_count": 4,
   "id": "9cab6556-e2ed-49ec-a0ce-8cc3a5ba93af",
   "metadata": {},
   "outputs": [
    {
     "data": {
      "text/plain": [
       "array([0.84147098, 1.        ])"
      ]
     },
     "execution_count": 4,
     "metadata": {},
     "output_type": "execute_result"
    }
   ],
   "source": [
    "a = array([1.0, pi/2])\n",
    "sin(a)"
   ]
  },
  {
   "cell_type": "code",
   "execution_count": null,
   "id": "9cfb1e88-b456-4521-ae83-ce89ffe57adf",
   "metadata": {},
   "outputs": [],
   "source": []
  }
 ],
 "metadata": {
  "kernelspec": {
   "display_name": "Python 3 (ipykernel)",
   "language": "python",
   "name": "python3"
  },
  "language_info": {
   "codemirror_mode": {
    "name": "ipython",
    "version": 3
   },
   "file_extension": ".py",
   "mimetype": "text/x-python",
   "name": "python",
   "nbconvert_exporter": "python",
   "pygments_lexer": "ipython3",
   "version": "3.9.10"
  }
 },
 "nbformat": 4,
 "nbformat_minor": 5
}
